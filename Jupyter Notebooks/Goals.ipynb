{
 "cells": [
  {
   "cell_type": "code",
   "execution_count": 1,
   "metadata": {},
   "outputs": [],
   "source": [
    "# Load the needed packages \n",
    "import numpy as np \n",
    "import pandas as pd \n",
    "import matplotlib.pyplot as plt \n",
    "import seaborn as sb\n",
    "\n",
    "\"\"\"\n",
    "Create a new DataFrame with 38 matches and random goals for each team in each match \n",
    "\"\"\"\n",
    "Dict =  {}\n",
    "Dict['Match'] = ['Match {}'.format(x) for x in range(1,39)]*2\n",
    "Dict['Team'] = ['Player Team']*38 + ['Opposing Team']*38\n",
    "# Get a random number of gaols between 0 and 5 for 38 matches * 2 teams (38*2=76) \n",
    "# Having p=[0.05,0.25,0.4,0.15,0.1,0.05] changes the probabilities of each number of goals \n",
    "# Examples: the probability of scoring 2 goals is 0.30 and the probability of scoring 5 goals is 0.025\n",
    "Dict['Goals'] = list(np.random.choice([0,1,2,3,4,5],76,p=[0.125,0.25,0.3,0.25,0.05,0.025]))\n",
    "df = pd.DataFrame(Dict)"
   ]
  },
  {
   "cell_type": "code",
   "execution_count": 2,
   "metadata": {},
   "outputs": [
    {
     "data": {
      "text/html": [
       "<div>\n",
       "<style scoped>\n",
       "    .dataframe tbody tr th:only-of-type {\n",
       "        vertical-align: middle;\n",
       "    }\n",
       "\n",
       "    .dataframe tbody tr th {\n",
       "        vertical-align: top;\n",
       "    }\n",
       "\n",
       "    .dataframe thead th {\n",
       "        text-align: right;\n",
       "    }\n",
       "</style>\n",
       "<table border=\"1\" class=\"dataframe\">\n",
       "  <thead>\n",
       "    <tr style=\"text-align: right;\">\n",
       "      <th></th>\n",
       "      <th>Match</th>\n",
       "      <th>Team</th>\n",
       "      <th>Goals</th>\n",
       "    </tr>\n",
       "  </thead>\n",
       "  <tbody>\n",
       "    <tr>\n",
       "      <th>0</th>\n",
       "      <td>Match 1</td>\n",
       "      <td>Player Team</td>\n",
       "      <td>3</td>\n",
       "    </tr>\n",
       "    <tr>\n",
       "      <th>1</th>\n",
       "      <td>Match 2</td>\n",
       "      <td>Player Team</td>\n",
       "      <td>3</td>\n",
       "    </tr>\n",
       "    <tr>\n",
       "      <th>2</th>\n",
       "      <td>Match 3</td>\n",
       "      <td>Player Team</td>\n",
       "      <td>4</td>\n",
       "    </tr>\n",
       "    <tr>\n",
       "      <th>3</th>\n",
       "      <td>Match 4</td>\n",
       "      <td>Player Team</td>\n",
       "      <td>2</td>\n",
       "    </tr>\n",
       "    <tr>\n",
       "      <th>4</th>\n",
       "      <td>Match 5</td>\n",
       "      <td>Player Team</td>\n",
       "      <td>3</td>\n",
       "    </tr>\n",
       "  </tbody>\n",
       "</table>\n",
       "</div>"
      ],
      "text/plain": [
       "     Match         Team  Goals\n",
       "0  Match 1  Player Team      3\n",
       "1  Match 2  Player Team      3\n",
       "2  Match 3  Player Team      4\n",
       "3  Match 4  Player Team      2\n",
       "4  Match 5  Player Team      3"
      ]
     },
     "execution_count": 2,
     "metadata": {},
     "output_type": "execute_result"
    }
   ],
   "source": [
    "df.head()"
   ]
  },
  {
   "cell_type": "code",
   "execution_count": 3,
   "metadata": {},
   "outputs": [
    {
     "data": {
      "text/html": [
       "<div>\n",
       "<style scoped>\n",
       "    .dataframe tbody tr th:only-of-type {\n",
       "        vertical-align: middle;\n",
       "    }\n",
       "\n",
       "    .dataframe tbody tr th {\n",
       "        vertical-align: top;\n",
       "    }\n",
       "\n",
       "    .dataframe thead th {\n",
       "        text-align: right;\n",
       "    }\n",
       "</style>\n",
       "<table border=\"1\" class=\"dataframe\">\n",
       "  <thead>\n",
       "    <tr style=\"text-align: right;\">\n",
       "      <th></th>\n",
       "      <th>Match</th>\n",
       "      <th>Team</th>\n",
       "      <th>Goals</th>\n",
       "    </tr>\n",
       "  </thead>\n",
       "  <tbody>\n",
       "    <tr>\n",
       "      <th>71</th>\n",
       "      <td>Match 34</td>\n",
       "      <td>Opposing Team</td>\n",
       "      <td>3</td>\n",
       "    </tr>\n",
       "    <tr>\n",
       "      <th>72</th>\n",
       "      <td>Match 35</td>\n",
       "      <td>Opposing Team</td>\n",
       "      <td>3</td>\n",
       "    </tr>\n",
       "    <tr>\n",
       "      <th>73</th>\n",
       "      <td>Match 36</td>\n",
       "      <td>Opposing Team</td>\n",
       "      <td>2</td>\n",
       "    </tr>\n",
       "    <tr>\n",
       "      <th>74</th>\n",
       "      <td>Match 37</td>\n",
       "      <td>Opposing Team</td>\n",
       "      <td>2</td>\n",
       "    </tr>\n",
       "    <tr>\n",
       "      <th>75</th>\n",
       "      <td>Match 38</td>\n",
       "      <td>Opposing Team</td>\n",
       "      <td>2</td>\n",
       "    </tr>\n",
       "  </tbody>\n",
       "</table>\n",
       "</div>"
      ],
      "text/plain": [
       "       Match           Team  Goals\n",
       "71  Match 34  Opposing Team      3\n",
       "72  Match 35  Opposing Team      3\n",
       "73  Match 36  Opposing Team      2\n",
       "74  Match 37  Opposing Team      2\n",
       "75  Match 38  Opposing Team      2"
      ]
     },
     "execution_count": 3,
     "metadata": {},
     "output_type": "execute_result"
    }
   ],
   "source": [
    "df.tail()"
   ]
  },
  {
   "cell_type": "code",
   "execution_count": 4,
   "metadata": {},
   "outputs": [
    {
     "data": {
      "image/png": "[encoded data removed]",
      "text/plain": [
       "<Figure size 1440x720 with 1 Axes>"
      ]
     },
     "metadata": {
      "needs_background": "light"
     },
     "output_type": "display_data"
    }
   ],
   "source": [
    "# Change the size of the figure\n",
    "plt.figure(figsize=(20,10))\n",
    "\n",
    "# Plot the player team goals in each match with a blue color\n",
    "# Note that the width is negative \n",
    "plt.bar(range(38), df[df.Team=='Player Team'].Goals,color=sb.color_palette()[0],\n",
    "        width=-0.3,align='edge',label='Player Team Goals');\n",
    "\n",
    "# Plot the opposing team goals in each match with a red color\n",
    "# Note that the width is postive \n",
    "plt.bar(range(38), df[df.Team=='Opposing Team'].Goals,color=sb.color_palette()[3],\n",
    "        width=0.3,align='edge',label='Opposing Team Goals');\n",
    "\n",
    "# Show legends \n",
    "plt.legend()\n",
    "\n",
    "# Show the matches in the x ticks with rotation \n",
    "plt.xticks(range(38),df[df.Team=='Player Team'].Match,rotation=90);"
   ]
  }
 ],
 "metadata": {
  "kernelspec": {
   "display_name": "Python 3",
   "language": "python",
   "name": "python3"
  },
  "language_info": {
   "codemirror_mode": {
    "name": "ipython",
    "version": 3
   },
   "file_extension": ".py",
   "mimetype": "text/x-python",
   "name": "python",
   "nbconvert_exporter": "python",
   "pygments_lexer": "ipython3",
   "version": "3.7.2"
  }
 },
 "nbformat": 4,
 "nbformat_minor": 2
}
